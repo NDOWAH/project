{
 "cells": [
  {
   "cell_type": "code",
   "execution_count": 37,
   "id": "7629406d",
   "metadata": {},
   "outputs": [],
   "source": [
    "import tensorflow as tf\n",
    "import numpy as np\n",
    "import matplotlib.pyplot as plt"
   ]
  },
  {
   "cell_type": "code",
   "execution_count": 23,
   "id": "c9d847fd",
   "metadata": {},
   "outputs": [],
   "source": [
    "celsius_deg = np.array([-40,-30,40,50,60,70,90,100])\n",
    "farenheit_deg = np.array([-40,-22,104,122,140,158,194,212])"
   ]
  },
  {
   "cell_type": "code",
   "execution_count": 24,
   "id": "50d79810",
   "metadata": {},
   "outputs": [
    {
     "name": "stdout",
     "output_type": "stream",
     "text": [
      "-40 degree celsius = -40 degree farenheit\n",
      "-30 degree celsius = -22 degree farenheit\n",
      "40 degree celsius = 104 degree farenheit\n",
      "50 degree celsius = 122 degree farenheit\n",
      "60 degree celsius = 140 degree farenheit\n",
      "70 degree celsius = 158 degree farenheit\n",
      "90 degree celsius = 194 degree farenheit\n",
      "100 degree celsius = 212 degree farenheit\n"
     ]
    }
   ],
   "source": [
    "for i,c in enumerate(celsius_deg):\n",
    "    print(\"%s degree celsius = %s degree farenheit\"%(c,farenheit_deg[i]))"
   ]
  },
  {
   "cell_type": "markdown",
   "id": "dbad819b",
   "metadata": {},
   "source": [
    "# create the layer(s)(lo)"
   ]
  },
  {
   "cell_type": "code",
   "execution_count": 25,
   "id": "d8e226e2",
   "metadata": {},
   "outputs": [],
   "source": [
    "lo = tf.keras.layers.Dense(units=1,input_shape=[1])  # units specifies the number of neuron in the layer, \n",
    "# input_shape specifies that the input in this layer is a single value\n"
   ]
  },
  {
   "cell_type": "markdown",
   "id": "d429543a",
   "metadata": {},
   "source": [
    "# Assemble the layer(s) into the model"
   ]
  },
  {
   "cell_type": "code",
   "execution_count": 26,
   "id": "200351f1",
   "metadata": {},
   "outputs": [],
   "source": [
    "model = tf.keras.Sequential([lo])"
   ]
  },
  {
   "cell_type": "markdown",
   "id": "3ba5cc14",
   "metadata": {},
   "source": [
    "# compile the model with the loss and uptimise function"
   ]
  },
  {
   "cell_type": "code",
   "execution_count": 34,
   "id": "b84d6ca0",
   "metadata": {},
   "outputs": [],
   "source": [
    "model.compile(loss=\"mean_squared_error\", optimizer=tf.keras.optimizers.Adam(0.1)) # 0.1 is the learning rate(step size)"
   ]
  },
  {
   "cell_type": "markdown",
   "id": "7d1eb197",
   "metadata": {},
   "source": [
    "# Train the model"
   ]
  },
  {
   "cell_type": "code",
   "execution_count": 36,
   "id": "4fab7497",
   "metadata": {},
   "outputs": [
    {
     "name": "stdout",
     "output_type": "stream",
     "text": [
      "Finished training the model\n"
     ]
    }
   ],
   "source": [
    "trained = model.fit(celsius_deg, farenheit_deg,epochs=500,verbose=False)\n",
    "print(\"Finished training the model\")"
   ]
  },
  {
   "cell_type": "markdown",
   "id": "93185f41",
   "metadata": {},
   "source": [
    "# display training statistics"
   ]
  },
  {
   "cell_type": "code",
   "execution_count": 40,
   "id": "ef1a0be1",
   "metadata": {},
   "outputs": [
    {
     "data": {
      "text/plain": [
       "[<matplotlib.lines.Line2D at 0x7fa34077c100>]"
      ]
     },
     "execution_count": 40,
     "metadata": {},
     "output_type": "execute_result"
    },
    {
     "data": {
      "image/png": "[encoded data removed]",
      "text/plain": [
       "<Figure size 432x288 with 1 Axes>"
      ]
     },
     "metadata": {
      "needs_background": "light"
     },
     "output_type": "display_data"
    }
   ],
   "source": [
    "plt.title(\"Training statistics\")\n",
    "plt.xlabel(\"Epochs number\")\n",
    "plt.ylabel(\"Loss magnitude\")\n",
    "plt.plot(trained.history[\"loss\"])"
   ]
  },
  {
   "cell_type": "markdown",
   "id": "c9354a20",
   "metadata": {},
   "source": [
    "# making prediction"
   ]
  },
  {
   "cell_type": "code",
   "execution_count": 41,
   "id": "c77fafd3",
   "metadata": {},
   "outputs": [
    {
     "name": "stdout",
     "output_type": "stream",
     "text": [
      "[[212.00786]]\n"
     ]
    }
   ],
   "source": [
    "print(model.predict([100]))"
   ]
  },
  {
   "cell_type": "markdown",
   "id": "e56e936c",
   "metadata": {},
   "source": [
    "# looking at the layer weight"
   ]
  },
  {
   "cell_type": "code",
   "execution_count": 45,
   "id": "47ebd5a7",
   "metadata": {},
   "outputs": [
    {
     "name": "stdout",
     "output_type": "stream",
     "text": [
      "These are the layer variables [array([[1.8026782]], dtype=float32), array([31.740034], dtype=float32)]:\n"
     ]
    }
   ],
   "source": [
    "print(\"These are the layer variables %s:\"%(model.get_weights()))"
   ]
  },
  {
   "cell_type": "markdown",
   "id": "7f3a1ef8",
   "metadata": {},
   "source": [
    "# we see that 1.8026782 ~ 1.8 and 31.740034 ~ 32. In case we use a large dataset, the values will probably converge"
   ]
  },
  {
   "cell_type": "code",
   "execution_count": null,
   "id": "46c3d7d5",
   "metadata": {},
   "outputs": [],
   "source": [
    "S"
   ]
  }
 ],
 "metadata": {
  "kernelspec": {
   "display_name": "Python 3",
   "language": "python",
   "name": "python3"
  },
  "language_info": {
   "codemirror_mode": {
    "name": "ipython",
    "version": 3
   },
   "file_extension": ".py",
   "mimetype": "text/x-python",
   "name": "python",
   "nbconvert_exporter": "python",
   "pygments_lexer": "ipython3",
   "version": "3.8.5"
  }
 },
 "nbformat": 4,
 "nbformat_minor": 5
}
