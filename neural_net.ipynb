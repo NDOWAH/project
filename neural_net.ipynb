{
 "cells": [
  {
   "cell_type": "code",
   "execution_count": 3,
   "metadata": {},
   "outputs": [],
   "source": [
    "import tensorflow as tf\n",
    "import tensorflow_datasets as tfds\n",
    "tfds.disable_progress_bar()\n",
    "import matplotlib.pyplot as plt\n",
    "import numpy as np"
   ]
  },
  {
   "cell_type": "code",
   "execution_count": 4,
   "metadata": {},
   "outputs": [],
   "source": [
    "import logging\n",
    "logger = tf.get_logger()\n",
    "logger.setLevel(logging.ERROR)\n"
   ]
  },
  {
   "cell_type": "markdown",
   "metadata": {},
   "source": [
    "# Loading the dataset"
   ]
  },
  {
   "cell_type": "code",
   "execution_count": null,
   "metadata": {},
   "outputs": [],
   "source": [
    "dataset,metadata = tfds.load(\"fashion_mnist\", as_supervised = True,with_info=True)"
   ]
  },
  {
   "cell_type": "code",
   "execution_count": null,
   "metadata": {},
   "outputs": [],
   "source": [
    "train_dataset,test_dataset = dataset[\"train\"],dataset[\"test\"]\n"
   ]
  },
  {
   "cell_type": "code",
   "execution_count": null,
   "metadata": {},
   "outputs": [],
   "source": [
    "class_name = metadata.features[\"label\"].names\n",
    "print(\"class names: {}\".format(class_name))"
   ]
  },
  {
   "cell_type": "markdown",
   "metadata": {},
   "source": [
    "# Exploring the data"
   ]
  },
  {
   "cell_type": "code",
   "execution_count": null,
   "metadata": {},
   "outputs": [],
   "source": [
    "num_train_examples = metadata.splits[\"train\"].num_examples\n",
    "num_test_examples = metadata.splits[\"test\"].num_examples\n",
    "print(\"number of train examples: %s\" %num_train_examples)\n",
    "print(\"number of test examples: %s\" %num_test_examples)"
   ]
  },
  {
   "cell_type": "markdown",
   "metadata": {},
   "source": [
    "# processing the data"
   ]
  },
  {
   "cell_type": "code",
   "execution_count": null,
   "metadata": {},
   "outputs": [],
   "source": [
    "# this function converts the value of each image in the image dataset from the range [0,225] to [0,1]\n",
    "def normalize(image,label):\n",
    "    image = tf.cast(image, tf.float32)\n",
    "    image /= 225\n",
    "    return image,label"
   ]
  },
  {
   "cell_type": "code",
   "execution_count": null,
   "metadata": {},
   "outputs": [],
   "source": [
    "# the map fucntion maps each dataset to the normalizer\n",
    "trin_dataset = train_dataset.map(normalize)\n",
    "test_dataset = test_dataset.map(normalize)"
   ]
  },
  {
   "cell_type": "code",
   "execution_count": null,
   "metadata": {},
   "outputs": [],
   "source": [
    "# cache helps keep the data in memory to avoid it being loaded from disk all the times as when it is initially trigerred\n",
    "train_dataset = train_dataset.cache()\n",
    "test_dataset = test_dataset.cache()"
   ]
  },
  {
   "cell_type": "markdown",
   "metadata": {},
   "source": [
    "# Exploring the processes data"
   ]
  },
  {
   "cell_type": "code",
   "execution_count": null,
   "metadata": {},
   "outputs": [],
   "source": [
    "# take(1) simply take one image from the dataset\n",
    "for image,label in test_dataset.take(1):\n",
    "    break\n",
    "    image = image.np().reshape(28,28)\n"
   ]
  },
  {
   "cell_type": "code",
   "execution_count": null,
   "metadata": {},
   "outputs": [],
   "source": [
    "plt.figure(figsize=(5,5))\n",
    "plt.imshow(image,cmap=plt.cm.binary)\n",
    "plt.colorbar\n",
    "plt.grid(False)\n",
    "plt.show()"
   ]
  },
  {
   "cell_type": "markdown",
   "metadata": {},
   "source": [
    "# Building and assembling the model"
   ]
  },
  {
   "cell_type": "code",
   "execution_count": null,
   "metadata": {},
   "outputs": [],
   "source": [
    "model = tf.keras.Sequential([tf.keras.layers.Flatten(28,28,1),\n",
    "                          tf.keras.layers.Dense(128, activation=tf.nn.relu),\n",
    "                          tf.keras.layers.Dense(10,activation=tf.nn.softmax)])"
   ]
  },
  {
   "cell_type": "markdown",
   "metadata": {},
   "source": [
    "# Training the model"
   ]
  },
  {
   "cell_type": "code",
   "execution_count": null,
   "metadata": {},
   "outputs": [],
   "source": [
    "BATCH_SIZE = 32\n",
    "train_dataset= train_dataset.cache().repeat().shuffle(num_train_examples).batch(BATCH_SIZE)\n",
    "test_dataset= test_dataset.cache().batch(BATCH_SIZE)"
   ]
  },
  {
   "cell_type": "code",
   "execution_count": null,
   "metadata": {},
   "outputs": [],
   "source": [
    "model.fit(train_dataset, epoche=5,step_size=math.ceil(num_train_examples/BATCH_SIZE))"
   ]
  },
  {
   "cell_type": "code",
   "execution_count": null,
   "metadata": {},
   "outputs": [],
   "source": [
    "test_loss,test_accurate = model.evaluate(test_data, step=math.ceil(num_train_examples/32))\n",
    "print(\"The accuracy is: %s\"%test_accurate)"
   ]
  },
  {
   "cell_type": "markdown",
   "metadata": {},
   "source": [
    "# Making pridictions"
   ]
  },
  {
   "cell_type": "code",
   "execution_count": null,
   "metadata": {},
   "outputs": [],
   "source": [
    "for test_image,test_label in test_data.take(1):\n",
    "    test_image = test_image.numpy()\n",
    "    test_label = test_label.numpy()\n",
    "    pridiction = model.pridict(test_image)"
   ]
  },
  {
   "cell_type": "code",
   "execution_count": null,
   "metadata": {},
   "outputs": [],
   "source": [
    "def plot_image(i,prediction_array,true_label,images):\n",
    "    prediction_array,true_label,images = prediction_array[i],true_label[i],images[i]\n",
    "    plt.grid(False)\n",
    "    plt.xtick([])\n",
    "    plt.ytick([])\n",
    "    plt.imshow(image[...,0],cmap=plt.cm.binary)\n",
    "    if pridicted_label = true_label:\n",
    "        color = \"blue\"\n",
    "    else:\n",
    "        color = \"red\"\n",
    "    plt.xlabel(\"{} {:2.0f}% {}\".format(class_names[predicted_label],\n",
    "                                       100*np.max(predicted_array,class_names[true_labelcolor=color])))"
   ]
  },
  {
   "cell_type": "code",
   "execution_count": null,
   "metadata": {},
   "outputs": [],
   "source": [
    "def plot_value_array(i,predicted_array,true_label,images):\n",
    "    prediction_array=prediction_array[i],true_label[i],images[i]\n",
    "    plt.grid(False)\n",
    "    plt.xtick([])\n",
    "    plt.ytick([])\n",
    "    thisplot=plt.bar(range(10),predicted_array,color=\"#777777\")\n",
    "    plt.ylim([0,1])\n",
    "    predicted_label=np.argmax(predicted_array)\n",
    "    thisplot[predicted_label].set_color(\"red\")\n",
    "    thisplot[true_label].set_color(\"blue\")\n",
    "    "
   ]
  },
  {
   "cell_type": "code",
   "execution_count": null,
   "metadata": {},
   "outputs": [],
   "source": [
    "i=2\n",
    "plt.figure(figsize=(6,3))\n",
    "plt.subplot(1,2,1)\n",
    "plot_image(i,prediction,test_labels,test_array)\n",
    "plt.subplot(1,2,2)\n",
    "plot_value_array(i,prediction,test_labels)"
   ]
  },
  {
   "cell_type": "code",
   "execution_count": null,
   "metadata": {},
   "outputs": [],
   "source": [
    "i=12\n",
    "plt.figure(figsize=(6,3))\n",
    "plt.subplot((1,2,1))\n",
    "plot_image(i,prediction,test_labels,test_array)\n",
    "plt.subplot(1,2,2)\n",
    "plot_value_array(i,prediction,test_array)"
   ]
  },
  {
   "cell_type": "code",
   "execution_count": null,
   "metadata": {},
   "outputs": [],
   "source": []
  }
 ],
 "metadata": {
  "kernelspec": {
   "display_name": "Python 3",
   "language": "python",
   "name": "python3"
  },
  "language_info": {
   "codemirror_mode": {
    "name": "ipython",
    "version": 3
   },
   "file_extension": ".py",
   "mimetype": "text/x-python",
   "name": "python",
   "nbconvert_exporter": "python",
   "pygments_lexer": "ipython3",
   "version": "3.7.3"
  }
 },
 "nbformat": 4,
 "nbformat_minor": 2
}
